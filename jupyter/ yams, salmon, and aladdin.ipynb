{
 "cells": [
  {
   "cell_type": "code",
   "execution_count": null,
   "metadata": {},
   "outputs": [],
   "source": [
    "x = input(\"Yams:\")\n",
    "y = input(\"Aladdin dvds:\")\n",
    "z = input(\"Salmon:\")\n",
    "yam = (float(x) * float(1.29))\n",
    "aladdin = (float(y) * float(19.99))\n",
    "salmon = (float(z) * float(7.99))\n",
    "subTotal = (yam + aladdin + salmon)\n",
    "total = (subTotal * 1.07)\n",
    "finalTotal = round(total, 2)\n",
    "print(finalTotal)"
   ]
  },
  {
   "cell_type": "code",
   "execution_count": null,
   "metadata": {},
   "outputs": [],
   "source": []
  }
 ],
 "metadata": {
  "kernelspec": {
   "display_name": "Python 3",
   "language": "python",
   "name": "python3"
  },
  "language_info": {
   "codemirror_mode": {
    "name": "ipython",
    "version": 3
   },
   "file_extension": ".py",
   "mimetype": "text/x-python",
   "name": "python",
   "nbconvert_exporter": "python",
   "pygments_lexer": "ipython3",
   "version": "3.7.4"
  }
 },
 "nbformat": 4,
 "nbformat_minor": 2
}
