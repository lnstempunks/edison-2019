{
 "cells": [
  {
   "cell_type": "markdown",
   "metadata": {},
   "source": [
    "# Meeting 5"
   ]
  },
  {
   "cell_type": "markdown",
   "metadata": {},
   "source": [
    "# *_GitHub_*"
   ]
  },
  {
   "cell_type": "markdown",
   "metadata": {},
   "source": [
    "## Follow me"
   ]
  },
  {
   "cell_type": "markdown",
   "metadata": {},
   "source": [
    "# _Functions_"
   ]
  },
  {
   "cell_type": "markdown",
   "metadata": {},
   "source": [
    "## Basics"
   ]
  },
  {
   "cell_type": "code",
   "execution_count": null,
   "metadata": {},
   "outputs": [],
   "source": [
    "def new_func():\n",
    "    return \"Hello\"\n",
    "\n",
    "new_func()"
   ]
  },
  {
   "cell_type": "code",
   "execution_count": null,
   "metadata": {},
   "outputs": [],
   "source": [
    "def math_func():\n",
    "    x = 5\n",
    "    return x**2\n",
    "\n",
    "math_func()"
   ]
  },
  {
   "cell_type": "code",
   "execution_count": null,
   "metadata": {},
   "outputs": [],
   "source": [
    "orwell_01 = \"Who controls the past controls the future. Who controls the present controls the past.\"\n",
    "orwell_02 = \"War is peace. Freedom is slavery. Ignorance is strength.\"\n",
    "\n",
    "def str_func():\n",
    "    length = len(orwell_01) + len(orwell_02)\n",
    "    result = \"1984: \" + str(length)\n",
    "    return result\n",
    "\n",
    "str_func()"
   ]
  },
  {
   "cell_type": "markdown",
   "metadata": {},
   "source": [
    "## Docstrings"
   ]
  },
  {
   "cell_type": "code",
   "execution_count": null,
   "metadata": {},
   "outputs": [],
   "source": [
    "def doc_func():\n",
    "    \"\"\"\n",
    "    This function divides 10^20 by 10^10\n",
    "    \"\"\"\n",
    "    return 10**20 / 10**10\n",
    "\n",
    "doc_func()"
   ]
  },
  {
   "cell_type": "code",
   "execution_count": 1,
   "metadata": {
    "scrolled": true
   },
   "outputs": [
    {
     "data": {
      "text/plain": [
       "'Convert a string or number to a floating point number, if possible.'"
      ]
     },
     "execution_count": 1,
     "metadata": {},
     "output_type": "execute_result"
    }
   ],
   "source": [
    "def doc_func():\n",
    "    \"\"\"\n",
    "    This function divides 10^20 by 10^10\n",
    "    \"\"\"\n",
    "    return 10**20 / 10**10\n",
    "\n",
    "print(doc_func().__doc__)\n",
    "print(len(doc_func().__doc__))"
   ]
  },
  {
   "cell_type": "markdown",
   "metadata": {},
   "source": [
    "## Parameters"
   ]
  },
  {
   "cell_type": "code",
   "execution_count": null,
   "metadata": {},
   "outputs": [],
   "source": [
    "def param_test(x_01, x_02):\n",
    "    return x_01**x_02\n",
    "\n",
    "print(\"No. 1: \" + param_test(4, 5))\n",
    "print(\"No. 2: \" + param_test(6, 20))\n",
    "print(\"No. 3: \" + param_test(8, 8))"
   ]
  },
  {
   "cell_type": "code",
   "execution_count": 2,
   "metadata": {},
   "outputs": [
    {
     "data": {
      "text/plain": [
       "\"Hi! I'm Overwritten\""
      ]
     },
     "execution_count": 2,
     "metadata": {},
     "output_type": "execute_result"
    }
   ],
   "source": [
    "def opt_param(word1, word2=\" Optional\"):\n",
    "    return word1 + word2\n",
    "\n",
    "print(\"No. 4: \" + opt_param(\"Hi! I'm\"))\n",
    "print(\"No. 5: \" + opt_param(\"Hi! I'm\", word2=\" Overwritten\"))"
   ]
  },
  {
   "cell_type": "markdown",
   "metadata": {},
   "source": [
    "## Exercise: _Create a function with the same purpose as the cash register and have it return the total amount._"
   ]
  },
  {
   "cell_type": "markdown",
   "metadata": {},
   "source": [
    "# _Packages_"
   ]
  },
  {
   "cell_type": "markdown",
   "metadata": {},
   "source": [
    "## Modules vs. Packages"
   ]
  },
  {
   "cell_type": "markdown",
   "metadata": {},
   "source": [
    "### Modules are single files that you can import. Packages are collections for modules."
   ]
  },
  {
   "cell_type": "markdown",
   "metadata": {},
   "source": [
    "## Math"
   ]
  },
  {
   "cell_type": "code",
   "execution_count": 3,
   "metadata": {},
   "outputs": [],
   "source": [
    "import math\n",
    "\n",
    "# import math as mth"
   ]
  },
  {
   "cell_type": "code",
   "execution_count": null,
   "metadata": {},
   "outputs": [],
   "source": [
    "factorial = math.factorial(10)\n",
    "# 1 * 2 * 3 * 4 * 5 * 6 * 7 * 8 * 9 * 10"
   ]
  },
  {
   "cell_type": "code",
   "execution_count": null,
   "metadata": {},
   "outputs": [],
   "source": [
    "absolute = -1 * abs(-5)\n",
    "new_absolute = math.fabs(absolute)"
   ]
  },
  {
   "cell_type": "code",
   "execution_count": null,
   "metadata": {},
   "outputs": [],
   "source": [
    "sqrt_1 = math.sqrt(49)\n",
    "sqrt_2 = math.sqrt(100)\n",
    "sqrt_3 = math.sqrt(169)\n",
    "print(f\"{sqrt_1} {sqrt_2} {sqrt_3}\")"
   ]
  },
  {
   "cell_type": "code",
   "execution_count": null,
   "metadata": {},
   "outputs": [],
   "source": [
    "print(math.pi)"
   ]
  },
  {
   "cell_type": "code",
   "execution_count": null,
   "metadata": {},
   "outputs": [],
   "source": [
    "\"\"\"\n",
    "    |\\\n",
    "    | \\\n",
    "    |  \\  29\n",
    " 21 |   \\\n",
    "    |    \\\n",
    "    ------|\n",
    "      20\n",
    "\"\"\"\n",
    "result = math.degrees(math.asin(21/29))\n",
    "print(result)"
   ]
  },
  {
   "cell_type": "markdown",
   "metadata": {},
   "source": [
    "## Datetime"
   ]
  },
  {
   "cell_type": "code",
   "execution_count": null,
   "metadata": {},
   "outputs": [],
   "source": [
    "import datetime"
   ]
  },
  {
   "cell_type": "code",
   "execution_count": null,
   "metadata": {},
   "outputs": [],
   "source": []
  },
  {
   "cell_type": "markdown",
   "metadata": {},
   "source": [
    "## Exercise: _Create a function that uses the math module to calculate the area of a triangle._"
   ]
  },
  {
   "cell_type": "markdown",
   "metadata": {},
   "source": [
    "# _Classes_"
   ]
  },
  {
   "cell_type": "markdown",
   "metadata": {},
   "source": [
    "## Description"
   ]
  },
  {
   "cell_type": "markdown",
   "metadata": {},
   "source": [
    "## OOP (Object-Oriented Programming)"
   ]
  },
  {
   "cell_type": "markdown",
   "metadata": {},
   "source": [
    "## Simple Classes"
   ]
  },
  {
   "cell_type": "markdown",
   "metadata": {},
   "source": [
    "## Objects and Using Them"
   ]
  },
  {
   "cell_type": "markdown",
   "metadata": {},
   "source": [
    "## Exercise: _Recreate the shopping register program as a class._"
   ]
  }
 ],
 "metadata": {
  "kernelspec": {
   "display_name": "Python 3",
   "language": "python",
   "name": "python3"
  },
  "language_info": {
   "codemirror_mode": {
    "name": "ipython",
    "version": 3
   },
   "file_extension": ".py",
   "mimetype": "text/x-python",
   "name": "python",
   "nbconvert_exporter": "python",
   "pygments_lexer": "ipython3",
   "version": "3.7.4"
  }
 },
 "nbformat": 4,
 "nbformat_minor": 2
}
