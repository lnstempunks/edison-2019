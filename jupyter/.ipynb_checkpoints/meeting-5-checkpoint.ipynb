{
 "cells": [
  {
   "cell_type": "markdown",
   "metadata": {},
   "source": [
    "# Meeting 5"
   ]
  },
  {
   "cell_type": "markdown",
   "metadata": {},
   "source": [
    "# *_GitHub_*"
   ]
  },
  {
   "cell_type": "markdown",
   "metadata": {},
   "source": [
    "## Follow me"
   ]
  },
  {
   "cell_type": "markdown",
   "metadata": {},
   "source": [
    "# _Functions_"
   ]
  },
  {
   "cell_type": "markdown",
   "metadata": {},
   "source": [
    "## Basics"
   ]
  },
  {
   "cell_type": "code",
   "execution_count": null,
   "metadata": {},
   "outputs": [],
   "source": [
    "def new_func():\n",
    "    return \"Hello\"\n",
    "\n",
    "new_func()"
   ]
  },
  {
   "cell_type": "code",
   "execution_count": null,
   "metadata": {},
   "outputs": [],
   "source": [
    "def math_func():\n",
    "    x = 5\n",
    "    return x**2\n",
    "\n",
    "math_func()"
   ]
  },
  {
   "cell_type": "code",
   "execution_count": null,
   "metadata": {},
   "outputs": [],
   "source": [
    "orwell_01 = \"Who controls the past controls the future. Who controls the present controls the past.\"\n",
    "orwell_02 = \"War is peace. Freedom is slavery. Ignorance is strength.\"\n",
    "\n",
    "def str_func():\n",
    "    length = len(orwell_01) + len(orwell_02)\n",
    "    result = \"1984: \" + str(length)\n",
    "    return result\n",
    "\n",
    "str_func()"
   ]
  },
  {
   "cell_type": "markdown",
   "metadata": {},
   "source": [
    "## Docstrings"
   ]
  },
  {
   "cell_type": "code",
   "execution_count": null,
   "metadata": {},
   "outputs": [],
   "source": [
    "def doc_func():\n",
    "    \"\"\"\n",
    "    This function divides 10^20 by 10^10\n",
    "    \"\"\"\n",
    "    return 10**20 / 10**10\n",
    "\n",
    "doc_func()"
   ]
  },
  {
   "cell_type": "code",
   "execution_count": 1,
   "metadata": {
    "scrolled": true
   },
   "outputs": [
    {
     "data": {
      "text/plain": [
       "'Convert a string or number to a floating point number, if possible.'"
      ]
     },
     "execution_count": 1,
     "metadata": {},
     "output_type": "execute_result"
    }
   ],
   "source": [
    "def doc_func():\n",
    "    \"\"\"\n",
    "    This function divides 10^20 by 10^10\n",
    "    \"\"\"\n",
    "    return 10**20 / 10**10\n",
    "\n",
    "print(doc_func().__doc__)\n",
    "print(len(doc_func().__doc__))"
   ]
  },
  {
   "cell_type": "markdown",
   "metadata": {},
   "source": [
    "## Parameters"
   ]
  },
  {
   "cell_type": "code",
   "execution_count": null,
   "metadata": {},
   "outputs": [],
   "source": [
    "def param_test(x_01, x_02):\n",
    "    return x_01**x_02\n",
    "\n",
    "print(\"No. 1: \" + param_test(4, 5))\n",
    "print(\"No. 2: \" + param_test(6, 20))\n",
    "print(\"No. 3: \" + param_test(8, 8))"
   ]
  },
  {
   "cell_type": "code",
   "execution_count": 2,
   "metadata": {},
   "outputs": [
    {
     "data": {
      "text/plain": [
       "\"Hi! I'm Overwritten\""
      ]
     },
     "execution_count": 2,
     "metadata": {},
     "output_type": "execute_result"
    }
   ],
   "source": [
    "def opt_param(word1, word2=\" Optional\"):\n",
    "    return word1 + word2\n",
    "\n",
    "print(\"No. 4: \" + opt_param(\"Hi! I'm\"))\n",
    "print(\"No. 5: \" + opt_param(\"Hi! I'm\", word2=\" Overwritten\"))"
   ]
  },
  {
   "cell_type": "markdown",
   "metadata": {},
   "source": [
    "## Exercise: _Create a function with the same purpose as the cash register and have it return the total amount._"
   ]
  },
  {
   "cell_type": "markdown",
   "metadata": {},
   "source": [
    "# _Packages_"
   ]
  },
  {
   "cell_type": "markdown",
   "metadata": {},
   "source": [
    "## Modules vs. Packages"
   ]
  },
  {
   "cell_type": "markdown",
   "metadata": {},
   "source": [
    "### Modules are single files that you can import. Packages are collections for modules."
   ]
  },
  {
   "cell_type": "markdown",
   "metadata": {},
   "source": [
    "## Math"
   ]
  },
  {
   "cell_type": "code",
   "execution_count": 3,
   "metadata": {},
   "outputs": [],
   "source": [
    "import math\n",
    "\n",
    "# import math as mth"
   ]
  },
  {
   "cell_type": "code",
   "execution_count": null,
   "metadata": {},
   "outputs": [],
   "source": [
    "factorial = math.factorial(10)\n",
    "# 1 * 2 * 3 * 4 * 5 * 6 * 7 * 8 * 9 * 10"
   ]
  },
  {
   "cell_type": "code",
   "execution_count": null,
   "metadata": {},
   "outputs": [],
   "source": [
    "absolute = -1 * abs(-5)\n",
    "new_absolute = math.fabs(absolute)"
   ]
  },
  {
   "cell_type": "code",
   "execution_count": null,
   "metadata": {},
   "outputs": [],
   "source": [
    "sqrt_1 = math.sqrt(49)\n",
    "sqrt_2 = math.sqrt(100)\n",
    "sqrt_3 = math.sqrt(169)\n",
    "print(f\"{sqrt_1} {sqrt_2} {sqrt_3}\")"
   ]
  },
  {
   "cell_type": "code",
   "execution_count": null,
   "metadata": {},
   "outputs": [],
   "source": [
    "print(math.pi)"
   ]
  },
  {
   "cell_type": "code",
   "execution_count": null,
   "metadata": {},
   "outputs": [],
   "source": [
    "\"\"\"\n",
    "    |\\\n",
    "    | \\\n",
    "    |  \\  29\n",
    " 21 |   \\\n",
    "    |    \\\n",
    "    ------|\n",
    "      20\n",
    "\"\"\"\n",
    "result = math.degrees(math.asin(21/29))\n",
    "print(result)"
   ]
  },
  {
   "cell_type": "markdown",
   "metadata": {},
   "source": [
    "## Datetime"
   ]
  },
  {
   "cell_type": "code",
   "execution_count": 6,
   "metadata": {},
   "outputs": [],
   "source": [
    "from datetime import *"
   ]
  },
  {
   "cell_type": "code",
   "execution_count": 9,
   "metadata": {},
   "outputs": [
    {
     "name": "stdout",
     "output_type": "stream",
     "text": [
      "Year: 2019 | Month: 9 | Day: 30\n"
     ]
    }
   ],
   "source": [
    "today = date.today()\n",
    "print(f\"Year: {today.year} | Month: {today.month} | Day: {today.day}\")"
   ]
  },
  {
   "cell_type": "code",
   "execution_count": 13,
   "metadata": {},
   "outputs": [
    {
     "name": "stdout",
     "output_type": "stream",
     "text": [
      "31536000.0\n",
      "27734400.0\n"
     ]
    }
   ],
   "source": [
    "year = timedelta(days=365)\n",
    "new_year = timedelta(weeks=40, days=40, hours=23, minutes=50, seconds=600)\n",
    "\n",
    "print(year.total_seconds())\n",
    "print(new_year.total_seconds())"
   ]
  },
  {
   "cell_type": "code",
   "execution_count": 22,
   "metadata": {},
   "outputs": [
    {
     "name": "stdout",
     "output_type": "stream",
     "text": [
      "Wed Oct  2 00:00:00 2019\n"
     ]
    }
   ],
   "source": [
    "tomorrow = today + timedelta(days=2, hours=12, minutes=30)\n",
    "print(tomorrow.ctime())"
   ]
  },
  {
   "cell_type": "markdown",
   "metadata": {},
   "source": [
    "## Exercise: _Create a function that uses the math module to calculate the area of a triangle._"
   ]
  },
  {
   "cell_type": "markdown",
   "metadata": {},
   "source": [
    "## _When you're done with that, tell me how long it took you._"
   ]
  },
  {
   "cell_type": "markdown",
   "metadata": {},
   "source": [
    "# _Classes_"
   ]
  },
  {
   "cell_type": "markdown",
   "metadata": {},
   "source": [
    "## Description"
   ]
  },
  {
   "cell_type": "markdown",
   "metadata": {},
   "source": [
    "![Test Img](cars.png)"
   ]
  },
  {
   "cell_type": "markdown",
   "metadata": {},
   "source": [
    "## OOP (Object-Oriented Programming)"
   ]
  },
  {
   "cell_type": "markdown",
   "metadata": {},
   "source": [
    "![Test Img #2](https://www3.ntu.edu.sg/home/ehchua/programming/java/images/OOP_Objects.png)"
   ]
  },
  {
   "cell_type": "markdown",
   "metadata": {},
   "source": [
    "## Simple Classes"
   ]
  },
  {
   "cell_type": "code",
   "execution_count": 25,
   "metadata": {},
   "outputs": [
    {
     "name": "stdout",
     "output_type": "stream",
     "text": [
      "This is your first class!\n"
     ]
    }
   ],
   "source": [
    "class TestClass:\n",
    "    def __init__(self):\n",
    "        self.result = \"This is your first class!\"\n",
    "\n",
    "    def print_out(self):\n",
    "        print(self.result)\n",
    "\n",
    "test = TestClass()\n",
    "test.print_out()"
   ]
  },
  {
   "cell_type": "code",
   "execution_count": 29,
   "metadata": {},
   "outputs": [
    {
     "name": "stdout",
     "output_type": "stream",
     "text": [
      "36.86989764584402\n",
      "53.13010235415599\n",
      "90.0\n",
      "True\n"
     ]
    }
   ],
   "source": [
    "import math\n",
    "\n",
    "class TriangleClass:\n",
    "    def __init__(self, leg_1, leg_2, hyp):\n",
    "        self.leg_1 = leg_1\n",
    "        self.leg_2 = leg_2\n",
    "        self.hyp = hyp\n",
    "    \n",
    "    def angles(self):\n",
    "        angle1 = math.degrees(math.asin(self.leg_1/self.hyp))\n",
    "        angle2 = math.degrees(math.acos(self.leg_1/self.hyp))\n",
    "        print(angle1)\n",
    "        print(angle2)\n",
    "        print(angle1 + angle2)\n",
    "    \n",
    "    def prove(self):\n",
    "        c = (self.leg_1**2) + (self.leg_2**2)\n",
    "        print(math.sqrt(c) == self.hyp)\n",
    "\n",
    "triangle = TriangleClass(3, 4, 5)\n",
    "triangle.angles()\n",
    "triangle.prove()"
   ]
  },
  {
   "cell_type": "code",
   "execution_count": 31,
   "metadata": {},
   "outputs": [
    {
     "name": "stdout",
     "output_type": "stream",
     "text": [
      "36.86989764584402\n",
      "53.13010235415599\n",
      "90.0\n",
      "True\n"
     ]
    }
   ],
   "source": [
    "class ShapeManager:\n",
    "    def __init__(self):\n",
    "        self.tri = TriangleClass(3, 4, 5)\n",
    "    def tri_angles(self):\n",
    "        self.tri.angles()\n",
    "    def tri_prove(self):\n",
    "        self.tri.prove()\n",
    "\n",
    "shape = ShapeManager()\n",
    "shape.tri_angles()\n",
    "shape.tri_prove()"
   ]
  },
  {
   "cell_type": "markdown",
   "metadata": {},
   "source": [
    "## Exercise: _Recreate the shopping register program as a class._"
   ]
  }
 ],
 "metadata": {
  "kernelspec": {
   "display_name": "Python 3",
   "language": "python",
   "name": "python3"
  },
  "language_info": {
   "codemirror_mode": {
    "name": "ipython",
    "version": 3
   },
   "file_extension": ".py",
   "mimetype": "text/x-python",
   "name": "python",
   "nbconvert_exporter": "python",
   "pygments_lexer": "ipython3",
   "version": "3.7.4"
  }
 },
 "nbformat": 4,
 "nbformat_minor": 2
}
